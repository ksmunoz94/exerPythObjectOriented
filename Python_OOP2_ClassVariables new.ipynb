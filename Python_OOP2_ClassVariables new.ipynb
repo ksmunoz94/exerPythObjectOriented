{
  "cells": [
    {
      "cell_type": "markdown",
      "source": [
        "# Python OOP2 - Class Variables"
      ],
      "metadata": {
        "deletable": false,
        "editable": false,
        "nbgrader": {
          "cell_type": "markdown",
          "checksum": "15115dce2a4561305cd3dfb668f5de4d",
          "grade": false,
          "grade_id": "cell-4c221b8ad413d535",
          "locked": true,
          "schema_version": 3,
          "solution": false,
          "task": false
        }
      },
      "id": "90a9d05f"
    },
    {
      "cell_type": "markdown",
      "source": [
        "### Instructions\n",
        "\n",
        "* Watch the video tutorial about the os module at https://www.youtube.com/watch?v=BJ-VvGyQxho \n",
        "* Complete the programming exercises below as you go through the tutorial.\n",
        "* Delete or comment out the line of code in each cell which says `raise NotImplementedError()` and replace it with your own.\n",
        "* Note: Some cells may have some code provided as a starting point, however, you may need to verify the variable names in the code provided match the way the presenter has spelled his variable names. If you get an error, make sure the variable names match the variable names in the video.\n",
        "\n",
        "### Exercises"
      ],
      "metadata": {
        "deletable": false,
        "editable": false,
        "nbgrader": {
          "cell_type": "markdown",
          "checksum": "33ce60977d8c9466bcc310ad22a02337",
          "grade": false,
          "grade_id": "cell-7b47d2d642765f60",
          "locked": true,
          "schema_version": 3,
          "solution": false,
          "task": false
        }
      },
      "id": "523b86ab"
    },
    {
      "cell_type": "markdown",
      "source": [
        "Write code in the cell below.\n",
        "\n",
        "* Add a method to the class below called `apply_raise` which changes `self.pay` by multiplying the existing value by 1.04.\n",
        "* Print `emp_1.pay`.\n",
        "* Run the `apply_raise` method.\n",
        "* print `emp_1.pay` again."
      ],
      "metadata": {
        "deletable": false,
        "editable": false,
        "nbgrader": {
          "cell_type": "markdown",
          "checksum": "c7d638e5874a38357fcae66bd9c35e3f",
          "grade": false,
          "grade_id": "cell-ef378e606c063712",
          "locked": true,
          "schema_version": 3,
          "solution": false,
          "task": false
        }
      },
      "id": "60153e29"
    },
    {
      "cell_type": "code",
      "source": [
        "class Employee:\n",
        "    def __init__(self, first, last, pay):\n",
        "        self.first = first\n",
        "        self.last = last\n",
        "        self.pay = pay\n",
        "        self.email = first + '.' + last + '@company.com'\n",
        "        \n",
        "    def fullname(self):\n",
        "        return '{} {}'.format(self.first, self.last)\n",
        "\n",
        "    def apply_raise(self):\n",
        "        self.pay = int(self.pay * 1.04)\n",
        "    \n",
        "    \n",
        "emp_1 = Employee('Corey', 'Schafer', 50000)\n",
        "emp_2 = Employee('Test', 'User', 60000)\n",
        "\n",
        "print(emp_1.pay)\n",
        "emp_1.apply_raise()\n",
        "print(emp_1.pay)"
      ],
      "outputs": [
        {
          "output_type": "stream",
          "name": "stdout",
          "text": [
            "50000\n",
            "52000\n"
          ]
        }
      ],
      "execution_count": null,
      "metadata": {
        "deletable": false,
        "nbgrader": {
          "cell_type": "code",
          "checksum": "18575139aae5b1dba131279db110b084",
          "grade": true,
          "grade_id": "cell-26eba60297ad4eb6",
          "locked": false,
          "points": 1,
          "schema_version": 3,
          "solution": true,
          "task": false
        },
        "noteable": {},
        "ExecuteTime": {
          "start_time": "2023-09-28T04:10:08.529588+00:00",
          "end_time": "2023-09-28T04:10:08.686652+00:00"
        }
      },
      "id": "69e11ad3"
    },
    {
      "cell_type": "markdown",
      "source": [
        "Write code in the cell below.\n",
        "\n",
        "* Add a class variable called `raise_amount` to the class below with a value of 1.04.\n",
        "* Update the `apply_raise` method to use the class variable `raise_amount`.\n",
        "* Print `Employee.raise_amount`.\n",
        "* Print `emp_1.raise_amount`.\n",
        "* Print `emp_2.raise_amount`."
      ],
      "metadata": {
        "deletable": false,
        "editable": false,
        "nbgrader": {
          "cell_type": "markdown",
          "checksum": "2ecf0f0c27dd38c820ef3cf0148b7a7a",
          "grade": false,
          "grade_id": "cell-16d0b0eabb882352",
          "locked": true,
          "schema_version": 3,
          "solution": false,
          "task": false
        }
      },
      "id": "ea5674f3"
    },
    {
      "cell_type": "code",
      "source": [
        "class Employee:\n",
        "    \n",
        "    raise_amount = 1.04\n",
        "    def __init__(self, first, last, pay):\n",
        "        self.first = first\n",
        "        self.last = last\n",
        "        self.pay = pay\n",
        "        self.email = first + '.' + last + '@company.com'\n",
        "        \n",
        "    def fullname(self):\n",
        "        return '{} {}'.format(self.first, self.last)\n",
        "    \n",
        "    def apply_raise(self):\n",
        "        self.pay = int(self.pay * self.raise_amount)\n",
        "        \n",
        "emp_1 = Employee('Corey', 'Schafer', 50000)\n",
        "emp_2 = Employee('Test', 'User', 60000)\n",
        "\n",
        "\n",
        "print(Employee.raise_amount)\n",
        "print(emp_1.raise_amount)\n",
        "print(emp_2.raise_amount)"
      ],
      "outputs": [
        {
          "output_type": "stream",
          "name": "stdout",
          "text": [
            "1.04\n",
            "1.04\n",
            "1.04\n"
          ]
        }
      ],
      "execution_count": null,
      "metadata": {
        "deletable": false,
        "nbgrader": {
          "cell_type": "code",
          "checksum": "62c446dfb349f50f451712b30dd31d4f",
          "grade": true,
          "grade_id": "cell-29a39d6df1bf2453",
          "locked": false,
          "points": 1,
          "schema_version": 3,
          "solution": true,
          "task": false
        },
        "noteable": {},
        "ExecuteTime": {
          "start_time": "2023-09-28T04:14:24.934128+00:00",
          "end_time": "2023-09-28T04:14:25.090256+00:00"
        }
      },
      "id": "f062bd28"
    },
    {
      "cell_type": "markdown",
      "source": [
        "Write code in the cell below.\n",
        "\n",
        "* Print the namespace for `emp_1`.\n",
        "* Print the namespace for the `Employee` class."
      ],
      "metadata": {
        "deletable": false,
        "editable": false,
        "nbgrader": {
          "cell_type": "markdown",
          "checksum": "dfdd91e7a81eb4fe33996bdf4840b49f",
          "grade": false,
          "grade_id": "cell-2ad11927ae2283f6",
          "locked": true,
          "schema_version": 3,
          "solution": false,
          "task": false
        }
      },
      "id": "e69d492e"
    },
    {
      "cell_type": "code",
      "source": [
        "print(emp_1.__dict__)\n",
        "print(Employee.__dict__)"
      ],
      "outputs": [
        {
          "output_type": "stream",
          "name": "stdout",
          "text": [
            "{'first': 'Corey', 'last': 'Schafer', 'pay': 50000, 'email': 'Corey.Schafer@company.com'}\n",
            "{'__module__': '__main__', 'raise_amount': 1.04, '__init__': <function Employee.__init__ at 0x7fed3ff833a0>, 'fullname': <function Employee.fullname at 0x7fed3ff83670>, 'apply_raise': <function Employee.apply_raise at 0x7fed3ff83700>, '__dict__': <attribute '__dict__' of 'Employee' objects>, '__weakref__': <attribute '__weakref__' of 'Employee' objects>, '__doc__': None}\n"
          ]
        }
      ],
      "execution_count": null,
      "metadata": {
        "deletable": false,
        "nbgrader": {
          "cell_type": "code",
          "checksum": "277c763f4efdc9ae79873061b7d8acef",
          "grade": true,
          "grade_id": "cell-3e93c8eeb521d396",
          "locked": false,
          "points": 1,
          "schema_version": 3,
          "solution": true,
          "task": false
        },
        "noteable": {},
        "ExecuteTime": {
          "start_time": "2023-09-28T04:15:22.052300+00:00",
          "end_time": "2023-09-28T04:15:22.207151+00:00"
        }
      },
      "id": "1c7ed783"
    },
    {
      "cell_type": "markdown",
      "source": [
        "Write code in the cell below.\n",
        "\n",
        "* Set the `Employee.raise_amount` to 1.05."
      ],
      "metadata": {
        "deletable": false,
        "editable": false,
        "nbgrader": {
          "cell_type": "markdown",
          "checksum": "9a1b3e6acfa214842831a48731e4c5d1",
          "grade": false,
          "grade_id": "cell-830837cf9247d779",
          "locked": true,
          "schema_version": 3,
          "solution": false,
          "task": false
        }
      },
      "id": "9e0934ec"
    },
    {
      "cell_type": "code",
      "source": [
        "Employee.raise_amount = 1.05\n",
        "print(Employee.raise_amount)\n",
        "print(emp_1.raise_amount)\n",
        "print(emp_2.raise_amount)\n"
      ],
      "outputs": [
        {
          "output_type": "stream",
          "name": "stdout",
          "text": [
            "1.05\n",
            "1.05\n",
            "1.05\n"
          ]
        }
      ],
      "execution_count": null,
      "metadata": {
        "deletable": false,
        "nbgrader": {
          "cell_type": "code",
          "checksum": "fb515b199bddefcf27090749b8563b2c",
          "grade": true,
          "grade_id": "cell-b52defd017903502",
          "locked": false,
          "points": 1,
          "schema_version": 3,
          "solution": true,
          "task": false
        },
        "noteable": {},
        "ExecuteTime": {
          "start_time": "2023-09-28T04:16:14.254951+00:00",
          "end_time": "2023-09-28T04:16:14.409845+00:00"
        }
      },
      "id": "3a7dbbda"
    },
    {
      "cell_type": "markdown",
      "source": [
        "Write code in the cell below.\n",
        "\n",
        "* Add a class variable called `num_of_emps` with a value of 0 to the class below.\n",
        "* Increase `num_of_emps` by 1 in the init method by referencing the class.\n",
        "* Print the number of employees."
      ],
      "metadata": {
        "deletable": false,
        "editable": false,
        "nbgrader": {
          "cell_type": "markdown",
          "checksum": "d418600b457348e7f5f2eb7098cb14d8",
          "grade": false,
          "grade_id": "cell-3e3e76b76bc8f8bd",
          "locked": true,
          "schema_version": 3,
          "solution": false,
          "task": false
        }
      },
      "id": "cdff2dbe"
    },
    {
      "cell_type": "code",
      "source": [
        "class Employee:\n",
        "    \n",
        "    num_of_emps = 0\n",
        "    raise_amount = 1.04\n",
        "    \n",
        "    def __init__(self, first, last, pay):\n",
        "        self.first = first\n",
        "        self.last = last\n",
        "        self.pay = pay\n",
        "        self.email = first + '.' + last + '@company.com'\n",
        "        \n",
        "        Employee.num_of_emps += 1\n",
        "        \n",
        "    def fullname(self):\n",
        "        return '{} {}'.format(self.first, self.last)\n",
        "    \n",
        "    def apply_raise(self):\n",
        "        self.pay = int(self.pay * self.raise_amount)\n",
        "        \n",
        "emp_1 = Employee('Corey', 'Schafer', 50000)\n",
        "emp_2 = Employee('Test', 'User', 60000)\n",
        "\n",
        "print(Employee.num_of_emps)\n",
        "\n"
      ],
      "outputs": [
        {
          "output_type": "stream",
          "name": "stdout",
          "text": [
            "2\n"
          ]
        }
      ],
      "execution_count": null,
      "metadata": {
        "deletable": false,
        "nbgrader": {
          "cell_type": "code",
          "checksum": "6dfe0ceba490937215c82dbab5d3c47b",
          "grade": true,
          "grade_id": "cell-526de87d1da5e4cd",
          "locked": false,
          "points": 1,
          "schema_version": 3,
          "solution": true,
          "task": false
        },
        "noteable": {},
        "ExecuteTime": {
          "start_time": "2023-09-28T04:20:41.925618+00:00",
          "end_time": "2023-09-28T04:20:42.081839+00:00"
        }
      },
      "id": "addd980c"
    }
  ],
  "metadata": {
    "kernelspec": {
      "name": "python3",
      "display_name": "Python 3.9",
      "language": "python"
    },
    "language_info": {
      "codemirror_mode": {
        "name": "ipython",
        "version": 3
      },
      "file_extension": ".py",
      "mimetype": "text/x-python",
      "name": "python",
      "nbconvert_exporter": "python",
      "pygments_lexer": "ipython3",
      "version": "3.8.8"
    },
    "noteable": {
      "last_delta_id": "ba430dcd-bd6e-4686-8fb9-b2669c2fef61"
    },
    "selected_hardware_size": "small",
    "kernel_info": {
      "name": "python3"
    },
    "nteract": {
      "version": "noteable@2.9.0"
    }
  },
  "nbformat": 4,
  "nbformat_minor": 5
}